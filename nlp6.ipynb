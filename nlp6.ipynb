{
  "nbformat": 4,
  "nbformat_minor": 0,
  "metadata": {
    "colab": {
      "provenance": []
    },
    "kernelspec": {
      "name": "python3",
      "display_name": "Python 3"
    },
    "language_info": {
      "name": "python"
    }
  },
  "cells": [
    {
      "cell_type": "code",
      "execution_count": null,
      "metadata": {
        "colab": {
          "base_uri": "https://localhost:8080/"
        },
        "id": "nCHIohSUlF2l",
        "outputId": "41f01c19-f609-42b0-ac1b-3ca0301f134c"
      },
      "outputs": [
        {
          "output_type": "stream",
          "name": "stdout",
          "text": [
            "/bin/bash: line 1: pythom: command not found\n"
          ]
        }
      ],
      "source": [
        "!pythom -m spacy download en_core_web_sm"
      ]
    },
    {
      "cell_type": "code",
      "source": [
        "import spacy\n",
        "nlp=spacy('en_core_web_sm')"
      ],
      "metadata": {
        "colab": {
          "base_uri": "https://localhost:8080/",
          "height": 158
        },
        "id": "6CzwGnHllSPN",
        "outputId": "ee2018f2-439f-4e51-88e7-a1da7428039d"
      },
      "execution_count": null,
      "outputs": [
        {
          "output_type": "error",
          "ename": "TypeError",
          "evalue": "'module' object is not callable",
          "traceback": [
            "\u001b[0;31m---------------------------------------------------------------------------\u001b[0m",
            "\u001b[0;31mTypeError\u001b[0m                                 Traceback (most recent call last)",
            "\u001b[0;32m<ipython-input-2-0302cfd72497>\u001b[0m in \u001b[0;36m<cell line: 0>\u001b[0;34m()\u001b[0m\n\u001b[1;32m      1\u001b[0m \u001b[0;32mimport\u001b[0m \u001b[0mspacy\u001b[0m\u001b[0;34m\u001b[0m\u001b[0;34m\u001b[0m\u001b[0m\n\u001b[0;32m----> 2\u001b[0;31m \u001b[0mnlp\u001b[0m\u001b[0;34m=\u001b[0m\u001b[0mspacy\u001b[0m\u001b[0;34m(\u001b[0m\u001b[0;34m'en_core_web_sm'\u001b[0m\u001b[0;34m)\u001b[0m\u001b[0;34m\u001b[0m\u001b[0;34m\u001b[0m\u001b[0m\n\u001b[0m",
            "\u001b[0;31mTypeError\u001b[0m: 'module' object is not callable"
          ]
        }
      ]
    },
    {
      "cell_type": "code",
      "source": [
        "from sklearn.metrics import classification_report"
      ],
      "metadata": {
        "id": "VSK2VPUHlbXF"
      },
      "execution_count": null,
      "outputs": []
    },
    {
      "cell_type": "code",
      "source": [
        "def pred_entity(text):\n",
        "  nlp=spacy.load('en_core_web_sm')\n",
        "  doc=nlp(text)\n",
        "  return [(ent.text,ent.label_)for ent in doc.ents]"
      ],
      "metadata": {
        "id": "KFFcie6elqZK"
      },
      "execution_count": null,
      "outputs": []
    },
    {
      "cell_type": "code",
      "source": [
        "def eval(text_labels):\n",
        "  t_label=[]\n",
        "  pred_label=[]\n",
        "  for text,true_ents in text_labels:\n",
        "    pred=pred_entity(text)\n",
        "    t_label.extend([label for (_,label) in true_ents])\n",
        "    pred_label.extend([label for (_,label) in pred])\n",
        "  return classification_report(t_label,pred_label )"
      ],
      "metadata": {
        "id": "BujJ3InmmGCc"
      },
      "execution_count": null,
      "outputs": []
    },
    {
      "cell_type": "code",
      "source": [
        "text = \"Apple CEO Tim Cook announced new iPhone models in California yesterday.\"\n",
        "print(\"\\nExample Text entities: \")\n",
        "for entity, label in pred_entity(text):\n",
        "    print(f\"{entity}: {label}\")"
      ],
      "metadata": {
        "colab": {
          "base_uri": "https://localhost:8080/"
        },
        "id": "8sYxlADmn-Sw",
        "outputId": "d076ddf7-b284-471d-f52f-bfa8feee37d8"
      },
      "execution_count": null,
      "outputs": [
        {
          "output_type": "stream",
          "name": "stdout",
          "text": [
            "\n",
            "Example Text entities: \n",
            "Apple: ORG\n",
            "Tim Cook: PERSON\n",
            "iPhone: ORG\n",
            "California: GPE\n",
            "yesterday: DATE\n"
          ]
        }
      ]
    },
    {
      "cell_type": "code",
      "source": [
        "test_data=[(\"Microsoft's Satya NAdella visited London.\",\n",
        "            [(\"microsoft\",\"ORG\"),(\"Satya Nadella\",\"PERSON\"),(\"London\",\"GPE\")]),\n",
        "           (\"Google opened a new office in Paris.\",\n",
        "            [(\"Google\",\"ORG\"),(\"Paris\",\"GRE\")])]"
      ],
      "metadata": {
        "id": "lGyCPR5soKL4"
      },
      "execution_count": null,
      "outputs": []
    },
    {
      "cell_type": "code",
      "source": [
        "print(\"\\nEvaluation Results: \")\n",
        "print(eval(test_data))"
      ],
      "metadata": {
        "colab": {
          "base_uri": "https://localhost:8080/"
        },
        "id": "dzNQUVi2oaXy",
        "outputId": "646f5ccf-dcc0-4518-8ee1-9bf558592079"
      },
      "execution_count": null,
      "outputs": [
        {
          "output_type": "stream",
          "name": "stdout",
          "text": [
            "\n",
            "Evaluation Results: \n",
            "              precision    recall  f1-score   support\n",
            "\n",
            "         GPE       0.50      1.00      0.67         1\n",
            "         GRE       0.00      0.00      0.00         1\n",
            "         ORG       1.00      1.00      1.00         2\n",
            "      PERSON       1.00      1.00      1.00         1\n",
            "\n",
            "    accuracy                           0.80         5\n",
            "   macro avg       0.62      0.75      0.67         5\n",
            "weighted avg       0.70      0.80      0.73         5\n",
            "\n"
          ]
        },
        {
          "output_type": "stream",
          "name": "stderr",
          "text": [
            "/usr/local/lib/python3.11/dist-packages/sklearn/metrics/_classification.py:1565: UndefinedMetricWarning: Precision is ill-defined and being set to 0.0 in labels with no predicted samples. Use `zero_division` parameter to control this behavior.\n",
            "  _warn_prf(average, modifier, f\"{metric.capitalize()} is\", len(result))\n",
            "/usr/local/lib/python3.11/dist-packages/sklearn/metrics/_classification.py:1565: UndefinedMetricWarning: Precision is ill-defined and being set to 0.0 in labels with no predicted samples. Use `zero_division` parameter to control this behavior.\n",
            "  _warn_prf(average, modifier, f\"{metric.capitalize()} is\", len(result))\n",
            "/usr/local/lib/python3.11/dist-packages/sklearn/metrics/_classification.py:1565: UndefinedMetricWarning: Precision is ill-defined and being set to 0.0 in labels with no predicted samples. Use `zero_division` parameter to control this behavior.\n",
            "  _warn_prf(average, modifier, f\"{metric.capitalize()} is\", len(result))\n"
          ]
        }
      ]
    },
    {
      "cell_type": "code",
      "source": [],
      "metadata": {
        "id": "cvUOSeNeogDN"
      },
      "execution_count": null,
      "outputs": []
    }
  ]
}