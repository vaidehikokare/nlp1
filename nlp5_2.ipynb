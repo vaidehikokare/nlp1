{
 "cells": [
  {
   "cell_type": "code",
   "execution_count": 1,
   "id": "2cc64c46-0c70-4fe7-b404-fb35e5ee2d19",
   "metadata": {},
   "outputs": [
    {
     "name": "stdout",
     "output_type": "stream",
     "text": [
      "I love natural language processing. I love machine\n"
     ]
    }
   ],
   "source": [
    "import random\n",
    "from collections import defaultdict\n",
    "class N_gram:\n",
    "    def __init__(self,n):\n",
    "        self.n=n\n",
    "        self.ngrams=defaultdict(list)\n",
    "    def train(self,text):\n",
    "        tokens=text.split()\n",
    "        for i in range(len(tokens)-self.n):\n",
    "            prefix=tuple(tokens[i:i+self.n-1])\n",
    "            next_word=tokens[i+self.n-1]\n",
    "            self.ngrams[prefix].append(next_word)\n",
    "    def genarate(self,start,length=20):\n",
    "       current=tuple(start.split()[-self.n-1:])\n",
    "       output=list(current)\n",
    "       for i in range(length):\n",
    "           possible_text=self.ngrams.get(current)\n",
    "           if not possible_text:\n",
    "               break\n",
    "           next_word=random.choice(possible_text)\n",
    "           output.append(next_word)\n",
    "           current=tuple(output[-(self.n-1):])\n",
    "       return \" \".join(output)\n",
    "if __name__ == \"__main__\":\n",
    "    text = \"I love deep learning. I love natural language processing. I love machine learning.\"\n",
    "    ngram_model = N_gram(n=3)\n",
    "    ngram_model.train(text)\n",
    "    \n",
    "    print(ngram_model.genarate(\"I love\", length=10))"
   ]
  },
  {
   "cell_type": "code",
   "execution_count": 24,
   "id": "e96a6b69-df0b-4772-a2e5-0522eeddfd83",
   "metadata": {},
   "outputs": [
    {
     "name": "stdout",
     "output_type": "stream",
     "text": [
      "I love deep learning. I love deep learning. I love natural language\n"
     ]
    }
   ],
   "source": [
    "from collections import defaultdict\n",
    "class n_grams:\n",
    "    def __init__(self,n):\n",
    "        self.n=n\n",
    "        self.ngrams=defaultdict(list)\n",
    "    def train(self,text):\n",
    "        tokens=text.split()\n",
    "        for i in range(len(tokens)-self.n-1):\n",
    "            prefix=tuple(tokens[i:i+self.n-1])\n",
    "            next_word=tokens[i+self.n-1]\n",
    "            self.ngrams[prefix].append(next_word)\n",
    "    def genarate1(self,start,length=20):\n",
    "        current=tuple(start.split()[-(self.n-1):])\n",
    "        output=list(current)\n",
    "        for i in range(length):\n",
    "            possible_word=self.ngrams.get(current)\n",
    "            if not possible_word:\n",
    "                break\n",
    "            next_word=random.choice(possible_word)\n",
    "            output.append(next_word)\n",
    "            current=tuple(output[-(self.n-1):])\n",
    "        return \" \".join(output)\n",
    "        \n",
    "            \n",
    "if __name__ == \"__main__\":\n",
    "    text = \"I love deep learning. I love natural language processing. I love machine learning.\"\n",
    "    ngram_model = n_grams(n=3)\n",
    "    ngram_model.train(text)\n",
    "    \n",
    "    print(ngram_model.genarate1(\"I love\", length=10))\n",
    "    "
   ]
  },
  {
   "cell_type": "code",
   "execution_count": null,
   "id": "89941f08-041e-4dd8-bb7a-438314ba3338",
   "metadata": {},
   "outputs": [],
   "source": []
  }
 ],
 "metadata": {
  "kernelspec": {
   "display_name": "Python 3 (ipykernel)",
   "language": "python",
   "name": "python3"
  },
  "language_info": {
   "codemirror_mode": {
    "name": "ipython",
    "version": 3
   },
   "file_extension": ".py",
   "mimetype": "text/x-python",
   "name": "python",
   "nbconvert_exporter": "python",
   "pygments_lexer": "ipython3",
   "version": "3.12.7"
  }
 },
 "nbformat": 4,
 "nbformat_minor": 5
}
