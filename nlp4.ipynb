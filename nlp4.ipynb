{
 "cells": [
  {
   "cell_type": "code",
   "execution_count": 10,
   "id": "1a01eee0-6b77-4623-8d8d-407933c6c752",
   "metadata": {},
   "outputs": [],
   "source": [
    "# WordNet is a large online dictionary of English words, but it's much more than a regular dictionary.\n",
    "# It groups words not just by their meanings, but also by their relationships.\n",
    "\n",
    "# ✅ Definition:\n",
    "\n",
    "# WordNet is a lexical database of English that organizes words into groups called synsets (sets of synonyms) \n",
    "# and shows how these synsets are connected through different types of semantic relations."
   ]
  },
  {
   "cell_type": "code",
   "execution_count": 12,
   "id": "f07ffef1-6b75-4eb0-b989-658a17d0ae07",
   "metadata": {},
   "outputs": [],
   "source": [
    "# A corpus (plural: corpora) is a large collection of texts or documents, used for studying a language.\n",
    "from nltk.corpus import wordnet as wn"
   ]
  },
  {
   "cell_type": "code",
   "execution_count": 14,
   "id": "b4e31afd-34b9-48aa-b300-b91f601c9b15",
   "metadata": {},
   "outputs": [
    {
     "name": "stderr",
     "output_type": "stream",
     "text": [
      "[nltk_data] Downloading package wordnet to\n",
      "[nltk_data]     C:\\Users\\kokar\\AppData\\Roaming\\nltk_data...\n",
      "[nltk_data]   Package wordnet is already up-to-date!\n",
      "[nltk_data] Downloading package omw-1.4 to\n",
      "[nltk_data]     C:\\Users\\kokar\\AppData\\Roaming\\nltk_data...\n",
      "[nltk_data]   Package omw-1.4 is already up-to-date!\n"
     ]
    },
    {
     "data": {
      "text/plain": [
       "True"
      ]
     },
     "execution_count": 14,
     "metadata": {},
     "output_type": "execute_result"
    }
   ],
   "source": [
    "import nltk\n",
    "nltk.download('wordnet')\n",
    "nltk.download('omw-1.4')# For more multilingual WordNet support"
   ]
  },
  {
   "cell_type": "code",
   "execution_count": 9,
   "id": "3678f9d7-2096-4c9e-bfff-0480cee44b98",
   "metadata": {},
   "outputs": [],
   "source": [
    "def relation(w1,w2):\n",
    "    synsets1=wn.synsets(w1)\n",
    "    synsets2=wn.synsets(w2)\n",
    "    if not synsets1 or not synsets2 :\n",
    "        return \"NO synsets found\"\n",
    "    sys1=synsets1[0]\n",
    "    sys2=synsets2[0]\n",
    "    if sys1==sys2:\n",
    "        return \"Synonyms\"\n",
    "    if sys1 in sys2.hypernyms():\n",
    "         return f\"{w1} is a hypernym of {w2}\"\n",
    "    if sys2 in sys1.hypernyms():\n",
    "         return f\"{w2} is a hypernym of {w1}\"    \n",
    "    if sys1 in sys2.hyponyms():\n",
    "        return f\"{w1} is a hyponym of {w2}\"\n",
    "    if sys2 in sys1.hyponyms():\n",
    "        return f\"{w2} is a hyponym of {w1}\"    \n",
    "    if sys1.lowest_common_hypernyms(sys2):\n",
    "        lch = sys1.lowest_common_hypernyms(sys2)[0]\n",
    "        return f\"Lowest common hypernym: {lch.name().split('.')[0]}\"\n",
    "\n",
    "    return \"No direct semantic relation found.\"    "
   ]
  },
  {
   "cell_type": "code",
   "execution_count": 11,
   "id": "6e01b53a-c6c1-4aec-b6a5-f37f745eb5c0",
   "metadata": {},
   "outputs": [
    {
     "name": "stdout",
     "output_type": "stream",
     "text": [
      "Lowest common hypernym: artifact\n",
      "Lowest common hypernym: carnivore\n",
      "Lowest common hypernym: whole\n"
     ]
    }
   ],
   "source": [
    "print(relation(\"car\", \"book\"))\n",
    "print(relation(\"dog\", \"cat\"))\n",
    "print(relation(\"banana\", \"fruit\"))"
   ]
  },
  {
   "cell_type": "code",
   "execution_count": null,
   "id": "a1cb4837-b8c9-4df3-99bf-61c9df3f95c9",
   "metadata": {},
   "outputs": [],
   "source": [
    "# Synonyms are words that have the same or very similar meanings.\n",
    "# For example, \"car\" and \"automobile\" are synonyms because both refer to the same thing.\n",
    "\n",
    "# Hypernym is a broader, more general category for a word.\n",
    "# For example, \"vehicle\" is a hypernym of \"car\" because a car is a type of vehicle.\n",
    "\n",
    "# Hyponym is a more specific word within a broader category.\n",
    "# For example, \"car\" is a hyponym of \"vehicle\" because a car is one kind of vehicle.\n",
    "\n",
    "# Lowest Common Hypernym is the nearest shared common category when two words aren't directly related as synonym, hypernym, or hyponym.\n",
    "# For example, \"dog\" and \"cat\" both have \"animal\" as their lowest common hypernym, because both dogs and cats are types of animals.\n"
   ]
  },
  {
   "cell_type": "code",
   "execution_count": 32,
   "id": "00dd68be-79b4-4129-876f-b92b748f9a80",
   "metadata": {},
   "outputs": [
    {
     "name": "stdout",
     "output_type": "stream",
     "text": [
      "Word 1: dog\n",
      "Word 2: cat\n",
      "Synset 1 Definition: a member of the genus Canis (probably descended from the common wolf) that has been domesticated by man since prehistoric times; occurs in many breeds\n",
      "Synset 2 Definition: feline mammal usually having thick soft fur and no ability to roar: domestic cats; wildcats\n",
      "Similarity Score: 0.8571428571428571\n",
      "Hypernyms of Word 1: ['domestic_animal', 'canine']\n",
      "Hypernyms of Word 2: ['feline']\n",
      "Hyponyms of Word 1: ['cur', 'pooch', 'lapdog', 'spitz', 'corgi', 'griffon', 'toy_dog', 'basenji', 'puppy', 'mexican_hairless', 'great_pyrenees', 'working_dog', 'hunting_dog', 'poodle', 'leonberg', 'newfoundland', 'pug', 'dalmatian']\n",
      "Hyponyms of Word 2: ['domestic_cat', 'wildcat']\n"
     ]
    }
   ],
   "source": [
    "from nltk.corpus import wordnet as wn\n",
    "\n",
    "def get_semantic_relationships(word1, word2):\n",
    "    # Get synsets for the words\n",
    "    synsets1 = wn.synsets(word1)\n",
    "    synsets2 = wn.synsets(word2)\n",
    "    \n",
    "    # If no synsets are found for either word\n",
    "    if not synsets1 or not synsets2:\n",
    "        return f\"Semantic relationships could not be determined for '{word1}' and '{word2}'.\"\n",
    "    \n",
    "    # Display relationships for the first synset of each word\n",
    "    synset1 = synsets1[0]\n",
    "    synset2 = synsets2[0]\n",
    "    \n",
    "    # Build the relationships dictionary\n",
    "    relationships = {\n",
    "        \"Word 1\": word1,\n",
    "        \"Word 2\": word2,\n",
    "        \"Synset 1 Definition\": synset1.definition(),\n",
    "        \"Synset 2 Definition\": synset2.definition(),\n",
    "        \"Similarity Score\": synset1.wup_similarity(synset2),  # Wu-Palmer Similarity\n",
    "        \"Hypernyms of Word 1\": [hypernym.name().split('.')[0] for hypernym in synset1.hypernyms()],\n",
    "        \"Hypernyms of Word 2\": [hypernym.name().split('.')[0] for hypernym in synset2.hypernyms()],\n",
    "        \"Hyponyms of Word 1\": [hyponym.name().split('.')[0] for hyponym in synset1.hyponyms()],\n",
    "        \"Hyponyms of Word 2\": [hyponym.name().split('.')[0] for hyponym in synset2.hyponyms()],\n",
    "    }\n",
    "    \n",
    "    return relationships\n",
    "\n",
    "# Example Usage\n",
    "word1 = \"dog\"\n",
    "word2 = \"cat\"\n",
    "semantic_relationships = get_semantic_relationships(word1, word2)\n",
    "\n",
    "# Print the relationships\n",
    "for key, value in semantic_relationships.items():\n",
    "    print(f\"{key}: {value}\")\n"
   ]
  },
  {
   "cell_type": "code",
   "execution_count": 13,
   "id": "f60a09cc-bc5d-40fc-8212-a76872a195b5",
   "metadata": {},
   "outputs": [
    {
     "name": "stdout",
     "output_type": "stream",
     "text": [
      "Word: fast\n",
      "Synonyms: {'quick', 'profligate', 'degraded', 'dissipated', 'libertine', 'debauched', 'fast', 'riotous', 'degenerate', 'flying', 'loyal', 'truehearted', 'dissolute', 'firm', 'immobile', 'tight', 'fasting'}\n",
      "Antonyms: {'slow'}\n"
     ]
    },
    {
     "name": "stderr",
     "output_type": "stream",
     "text": [
      "[nltk_data] Downloading package wordnet to\n",
      "[nltk_data]     C:\\Users\\kokar\\AppData\\Roaming\\nltk_data...\n",
      "[nltk_data]   Package wordnet is already up-to-date!\n"
     ]
    }
   ],
   "source": [
    "import nltk\n",
    "from nltk.corpus import wordnet as wn\n",
    "\n",
    "# Download the necessary NLTK resources\n",
    "nltk.download('wordnet')\n",
    "\n",
    "# Word to analyze\n",
    "word = \"fast\"\n",
    "\n",
    "synonyms = []\n",
    "antonyms = []\n",
    "\n",
    "# Get synonyms and antonyms from WordNet\n",
    "for syn in wn.synsets(word):\n",
    "    for lemma in syn.lemmas():\n",
    "        synonyms.append(lemma.name())\n",
    "        if lemma.antonyms():\n",
    "            antonyms.append(lemma.antonyms()[0].name())\n",
    "\n",
    "# Remove duplicates\n",
    "synonyms = set(synonyms)\n",
    "antonyms = set(antonyms)\n",
    "\n",
    "# Print the results\n",
    "print(f\"Word: {word}\")\n",
    "print(\"Synonyms:\", synonyms)\n",
    "print(\"Antonyms:\", antonyms)"
   ]
  },
  {
   "cell_type": "code",
   "execution_count": 15,
   "id": "25156440-5275-481f-adcd-99be7dc017fc",
   "metadata": {},
   "outputs": [],
   "source": [
    "import nltk\n",
    "from nltk.corpus import wordnet as wn"
   ]
  },
  {
   "cell_type": "code",
   "execution_count": 37,
   "id": "a7ebe56a-2dff-4fe4-8357-5f78826f3469",
   "metadata": {},
   "outputs": [
    {
     "name": "stdout",
     "output_type": "stream",
     "text": [
      "Word: fast\n",
      "Synonyms: {'degraded', 'dissipated', 'debauched', 'degenerate', 'flying', 'loyal', 'truehearted', 'dissolute', 'firm', 'tight', 'quick', 'profligate', 'libertine', 'fast', 'riotous', 'immobile', 'fasting'}\n",
      "Antonyms: {<bound method Lemma.name of Lemma('slow.a.01.slow')>, <bound method Lemma.name of Lemma('slow.a.04.slow')>, <bound method Lemma.name of Lemma('slow.a.02.slow')>}\n"
     ]
    }
   ],
   "source": [
    "synonyms = set(synonyms)\n",
    "antonyms = set(antonyms)\n",
    "print(f\"Word: {word}\")\n",
    "print(\"Synonyms:\", synonyms)\n",
    "print(\"Antonyms:\", antonyms)"
   ]
  },
  {
   "cell_type": "code",
   "execution_count": 37,
   "id": "1775a817-9edc-427d-931b-132949536a00",
   "metadata": {},
   "outputs": [
    {
     "name": "stdout",
     "output_type": "stream",
     "text": [
      "Hypernyms: ['advantage']\n",
      "Hypernyms: ['morality']\n",
      "Hypernyms: ['quality']\n",
      "Hypernyms: ['artifact']\n",
      "Hypernyms: []\n",
      "Hypernyms: []\n",
      "Hypernyms: []\n",
      "Hypernyms: []\n",
      "Hypernyms: []\n",
      "Hypernyms: []\n",
      "Hypernyms: []\n",
      "Hypernyms: []\n",
      "Hypernyms: []\n",
      "Hypernyms: []\n",
      "Hypernyms: []\n",
      "Hypernyms: []\n",
      "Hypernyms: []\n",
      "Hypernyms: []\n",
      "Hypernyms: []\n",
      "Hypernyms: []\n",
      "Hypernyms: []\n",
      "Hypernyms: []\n",
      "Hypernyms: []\n",
      "Hypernyms: []\n",
      "Hypernyms: []\n",
      "Hypernyms: []\n",
      "Hypernyms: []\n"
     ]
    }
   ],
   "source": [
    "word='good'\n",
    "synonyms1=[]\n",
    "antonyms1=[]\n",
    "for i in wn.synsets(word):\n",
    "    print(\"Hypernyms:\", [h.name().split('.')[0] for h in i.hypernyms()])\n",
    "    for lemma in i.lemmas():\n",
    "        synonyms1.append(lemma.name())\n",
    "        if lemma.antonyms():\n",
    "            antonyms1.append(lemma.antonyms()[0].name())        "
   ]
  },
  {
   "cell_type": "code",
   "execution_count": 18,
   "id": "41f6cd72-de4b-478b-af73-97a0fe7c0eef",
   "metadata": {},
   "outputs": [],
   "source": [
    "synonyms1=set(synonyms1)\n",
    "antonyms1=set(antonyms1)"
   ]
  },
  {
   "cell_type": "code",
   "execution_count": 20,
   "id": "a31f10f5-fc21-4ed5-b6d2-45492376a94b",
   "metadata": {},
   "outputs": [
    {
     "name": "stdout",
     "output_type": "stream",
     "text": [
      "Synonyms: {'in_force', 'practiced', 'respectable', 'near', 'serious', 'unspoiled', 'estimable', 'sound', 'in_effect', 'commodity', 'soundly', 'skillful', 'goodness', 'adept', 'secure', 'thoroughly', 'proficient', 'salutary', 'dear', 'effective', 'safe', 'honorable', 'dependable', 'unspoilt', 'ripe', 'well', 'just', 'good', 'upright', 'right', 'full', 'honest', 'expert', 'trade_good', 'skilful', 'undecomposed', 'beneficial'}\n",
      "Antonyms: {'evilness', 'bad', 'badness', 'evil', 'ill'}\n"
     ]
    }
   ],
   "source": [
    "print(\"Synonyms:\", synonyms1)\n",
    "print(\"Antonyms:\", antonyms1)"
   ]
  },
  {
   "cell_type": "code",
   "execution_count": null,
   "id": "34ca32c6-4e7f-40d3-9cca-d0dd087948ff",
   "metadata": {},
   "outputs": [],
   "source": []
  }
 ],
 "metadata": {
  "kernelspec": {
   "display_name": "Python 3 (ipykernel)",
   "language": "python",
   "name": "python3"
  },
  "language_info": {
   "codemirror_mode": {
    "name": "ipython",
    "version": 3
   },
   "file_extension": ".py",
   "mimetype": "text/x-python",
   "name": "python",
   "nbconvert_exporter": "python",
   "pygments_lexer": "ipython3",
   "version": "3.12.7"
  }
 },
 "nbformat": 4,
 "nbformat_minor": 5
}
